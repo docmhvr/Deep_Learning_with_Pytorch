{
  "cells": [
    {
      "cell_type": "markdown",
      "metadata": {
        "id": "view-in-github",
        "colab_type": "text"
      },
      "source": [
        "<a href=\"https://colab.research.google.com/github/docmhvr/Deep_Learning_with_Pytorch/blob/main/Evaluation_metrics_Reference_TorchMetrics/Classification_Evaluation_Metrics_using_Torchmetrics.ipynb\" target=\"_parent\"><img src=\"https://colab.research.google.com/assets/colab-badge.svg\" alt=\"Open In Colab\"/></a>"
      ]
    },
    {
      "cell_type": "markdown",
      "metadata": {
        "id": "KAUeUqUbVOrI"
      },
      "source": [
        "<h1 style=\"font-size:30px;\">Classification Evaluation Metrics using TorchMetrics</h1>\n",
        "\n",
        "In the previous notebook, you learned how to implement evaluation metrics for classification from scratch. But we need not always do that. Libraries like Scikit-Learn already provide such functionalities. In fact, we can also use all those metrics from the `TorchMetrics` package. And that is exactly what we will be doing in this notebook.\n",
        "\n",
        "<img src = \"https://opencv.org/wp-content/uploads/2023/05/c3-week3-classification-eval-metrics.png\" width=1000>"
      ]
    },
    {
      "cell_type": "markdown",
      "metadata": {
        "id": "pf1QK_EMVOrK"
      },
      "source": [
        "## Table of Contents\n",
        "* [1 Classification Evaluation Metrics](#1-Classification-Evaluation-Metrics)\n",
        "* [2 Generate Dataset](#2-Generate-Dataset)\n",
        "* [3 Create a Logistic Regression Model](#3-Create-a-Logistic-Regression-Model)\n",
        "* [4 Training and Prediction](#4-Training-and-Prediction)\n",
        "* [5 Confusion Matrix](#5-Confusion-Matrix)\n",
        "* [6 Accuracy](#6-Accuracy)\n",
        "* [7 Precision](#7-Precision)\n",
        "* [8 Recall / Sensitivity](#8-Recall-/-Sensitivity)\n",
        "* [9 F1-Score](#9-F1-Score)\n",
        "* [10 ROC-Curve](#10-ROC-Curve)\n"
      ]
    },
    {
      "cell_type": "markdown",
      "metadata": {
        "id": "Klw5Pa0hVOrK"
      },
      "source": [
        "## 1 Classification Evaluation Metrics"
      ]
    },
    {
      "cell_type": "markdown",
      "metadata": {
        "id": "Gjfnv3WHVOrL"
      },
      "source": [
        "For the sake of simplicity, we will illustrate the performance metrics for the task of point classification to two classes: `[0, 1]`.\n",
        "\n",
        "The code till training and prediction section will remain exactly the same as the previous notebook.\n",
        "\n",
        "To begin with, let's import all of the required packages.\n",
        "\n",
        "Since we are going to perform binary classification in this notebook, we shall import all the relevant **Binary** evaluation metrics from TorchMetrics."
      ]
    },
    {
      "cell_type": "code",
      "source": [
        "# Uncooment the line below, if you are using Colab.\n",
        "!pip install torchinfo torchmetrics"
      ],
      "metadata": {
        "colab": {
          "base_uri": "https://localhost:8080/"
        },
        "id": "PVuxpi-LVi19",
        "outputId": "c624fd53-8fa3-44d0-fcae-b4d2e8bd99f1"
      },
      "execution_count": null,
      "outputs": [
        {
          "output_type": "stream",
          "name": "stdout",
          "text": [
            "Looking in indexes: https://pypi.org/simple, https://us-python.pkg.dev/colab-wheels/public/simple/\n",
            "Collecting torchinfo\n",
            "  Downloading torchinfo-1.8.0-py3-none-any.whl (23 kB)\n",
            "Collecting torchmetrics\n",
            "  Downloading torchmetrics-0.11.4-py3-none-any.whl (519 kB)\n",
            "\u001b[2K     \u001b[90m━━━━━━━━━━━━━━━━━━━━━━━━━━━━━━━━━━━━━━\u001b[0m \u001b[32m519.2/519.2 kB\u001b[0m \u001b[31m21.6 MB/s\u001b[0m eta \u001b[36m0:00:00\u001b[0m\n",
            "\u001b[?25hRequirement already satisfied: numpy>=1.17.2 in /usr/local/lib/python3.10/dist-packages (from torchmetrics) (1.22.4)\n",
            "Requirement already satisfied: torch>=1.8.1 in /usr/local/lib/python3.10/dist-packages (from torchmetrics) (2.0.0+cu118)\n",
            "Requirement already satisfied: packaging in /usr/local/lib/python3.10/dist-packages (from torchmetrics) (23.1)\n",
            "Requirement already satisfied: filelock in /usr/local/lib/python3.10/dist-packages (from torch>=1.8.1->torchmetrics) (3.12.0)\n",
            "Requirement already satisfied: typing-extensions in /usr/local/lib/python3.10/dist-packages (from torch>=1.8.1->torchmetrics) (4.5.0)\n",
            "Requirement already satisfied: sympy in /usr/local/lib/python3.10/dist-packages (from torch>=1.8.1->torchmetrics) (1.11.1)\n",
            "Requirement already satisfied: networkx in /usr/local/lib/python3.10/dist-packages (from torch>=1.8.1->torchmetrics) (3.1)\n",
            "Requirement already satisfied: jinja2 in /usr/local/lib/python3.10/dist-packages (from torch>=1.8.1->torchmetrics) (3.1.2)\n",
            "Requirement already satisfied: triton==2.0.0 in /usr/local/lib/python3.10/dist-packages (from torch>=1.8.1->torchmetrics) (2.0.0)\n",
            "Requirement already satisfied: cmake in /usr/local/lib/python3.10/dist-packages (from triton==2.0.0->torch>=1.8.1->torchmetrics) (3.25.2)\n",
            "Requirement already satisfied: lit in /usr/local/lib/python3.10/dist-packages (from triton==2.0.0->torch>=1.8.1->torchmetrics) (16.0.3)\n",
            "Requirement already satisfied: MarkupSafe>=2.0 in /usr/local/lib/python3.10/dist-packages (from jinja2->torch>=1.8.1->torchmetrics) (2.1.2)\n",
            "Requirement already satisfied: mpmath>=0.19 in /usr/local/lib/python3.10/dist-packages (from sympy->torch>=1.8.1->torchmetrics) (1.3.0)\n",
            "Installing collected packages: torchinfo, torchmetrics\n",
            "Successfully installed torchinfo-1.8.0 torchmetrics-0.11.4\n"
          ]
        }
      ]
    },
    {
      "cell_type": "code",
      "execution_count": null,
      "metadata": {
        "id": "w_JDZhljVOrL"
      },
      "outputs": [],
      "source": [
        "import numpy as np\n",
        "import torch\n",
        "import torch.nn as nn\n",
        "\n",
        "import matplotlib\n",
        "import matplotlib.pyplot as plt\n",
        "\n",
        "import seaborn as sns\n",
        "\n",
        "from torchmetrics.classification import (\n",
        "            BinaryAccuracy,\n",
        "            BinaryConfusionMatrix,\n",
        "            BinaryPrecision,\n",
        "            BinaryRecall,\n",
        "            BinaryF1Score,\n",
        "            BinaryROC,\n",
        "            BinaryAUROC\n",
        ")\n",
        "\n",
        "\n",
        "from sklearn.datasets import make_classification\n",
        "from sklearn.model_selection import train_test_split\n",
        "\n",
        "matplotlib.style.use('ggplot')\n",
        "plt.rcParams[\"figure.figsize\"] = (10, 7)\n",
        "%matplotlib inline"
      ]
    },
    {
      "cell_type": "code",
      "execution_count": null,
      "metadata": {
        "id": "Ri_DHs8EVOrM"
      },
      "outputs": [],
      "source": [
        "bold = f\"\\033[1m\"\n",
        "reset = f\"\\033[0m\""
      ]
    },
    {
      "cell_type": "markdown",
      "metadata": {
        "id": "p0aNBZSiVOrM"
      },
      "source": [
        "## 2 Generate Dataset"
      ]
    },
    {
      "cell_type": "markdown",
      "metadata": {
        "id": "IJNlhiSKVOrM"
      },
      "source": [
        "For our purposes, we need to create a dataset. We use\n",
        "[make_classification](https://scikit-learn.org/stable/modules/generated/sklearn.datasets.make_classification.html)\n",
        "function from scikit-learn library. It generates a random n-class classification problem with normally distributed\n",
        "clusters of points. We also add uniformly distributed points as noise to our data.\n",
        "\n",
        "To get the details about the functon `sklearn.datasets.make_classification` read\n",
        "<a href=\"https://scikit-learn.org/stable/modules/generated/sklearn.datasets.make_classification.html\" target=_blank>here</a>."
      ]
    },
    {
      "cell_type": "code",
      "execution_count": null,
      "metadata": {
        "colab": {
          "base_uri": "https://localhost:8080/",
          "height": 634
        },
        "id": "T8B-jXPpVOrM",
        "outputId": "22064e7b-d6c5-4333-e6cf-7c46b4774871"
      },
      "outputs": [
        {
          "output_type": "stream",
          "name": "stdout",
          "text": [
            "Inputs (X) shape: (100, 2)\n",
            "Lables (y) shape: (100,)\n"
          ]
        },
        {
          "output_type": "display_data",
          "data": {
            "text/plain": [
              "<Figure size 1000x700 with 1 Axes>"
            ],
            "image/png": "[encoded data removed]"
          },
          "metadata": {}
        }
      ],
      "source": [
        "# for reproducible results\n",
        "seed = 42\n",
        "rng = np.random.RandomState(seed)\n",
        "torch.manual_seed(seed)\n",
        "\n",
        "\n",
        "# generate two class classification problem\n",
        "X, y = make_classification(\n",
        "    n_features=2, n_redundant=0, n_informative=2, random_state=seed, n_clusters_per_class=1\n",
        ")\n",
        "\n",
        "# add unifom random noise\n",
        "X += 4 * rng.uniform(size=X.shape)\n",
        "\n",
        "print(f\"Inputs (X) shape: {X.shape}\")\n",
        "print(f\"Lables (y) shape: {y.shape}\")\n",
        "\n",
        "plt.scatter(X[:,0],X[:,1],c=y,edgecolor='k')\n",
        "plt.show()"
      ]
    },
    {
      "cell_type": "markdown",
      "metadata": {
        "id": "jZi5AajMVOrN"
      },
      "source": [
        "## 3 Create a Logistic Regression Model\n",
        "\n",
        "Here we will train a [Logistic Regression](https://en.wikipedia.org/wiki/Logistic_regression) classifier. Logistic regression is equivalent to a one-layer neural network with sigmoid activation.\n",
        "\n",
        "We are using sigmoid activation, so the model prediction will be the prediction probability of class 1.\n",
        "\n",
        "Basically, logistic regression is equivalent to a one-layer neural network, so let's implement it with PyTorch using the `nn` module.\n",
        "The output vector `y_predicted` consists of the predicted estimations on whether the points belong to the class with\n",
        "label '1'.\n",
        "\n",
        "\n",
        "The `LogisticRegression` class  follows these methods:\n",
        "\n",
        "\n",
        "**`__init__`:**  It takes `n_features` (number of input data features) and initiates `nn-linear` function.\n",
        "\n",
        "**`forward`:** It takes `x` (data input) and does forward pass of the network."
      ]
    },
    {
      "cell_type": "code",
      "execution_count": null,
      "metadata": {
        "id": "lc8bRVg7VOrN"
      },
      "outputs": [],
      "source": [
        "# Two-class logistic regression model.\n",
        "class LogisticRegression(nn.Module):\n",
        "    def __init__(self, n_features):\n",
        "        super().__init__()\n",
        "\n",
        "        # define linear layer (WX + B)\n",
        "        self.linear = nn.Linear(n_features, 1, bias=True)\n",
        "\n",
        "    def forward(self, x):\n",
        "        # calculate WX + B\n",
        "        x = self.linear(x)\n",
        "\n",
        "        # sigmoid activation (prediction probability of class 1)\n",
        "        predictions = torch.sigmoid(x)\n",
        "        return predictions"
      ]
    },
    {
      "cell_type": "markdown",
      "metadata": {
        "id": "r9lSuHEsVOrN"
      },
      "source": [
        "## 4 Training and Prediction"
      ]
    },
    {
      "cell_type": "markdown",
      "metadata": {
        "id": "VNFndIX-VOrN"
      },
      "source": [
        "### 4.1 Create the `Trainer` class\n",
        "\n",
        "Since PyTorch does not provide unified methods for training, we create a simple `Trainer` class to fit our model and make predictions.\n",
        "\n",
        "The **`Trainer` class follows these methods:**\n",
        "\n",
        "**`__init__`:**\n",
        "\n",
        "It takes three arguments.\n",
        "        \n",
        "- `model`: This has to be trained. Although we will pass the above-defined Linear Regression Model here, it can take any PyTorch model.\n",
        "\n",
        "- `criterion`: It  takes any NN-module loss function.\n",
        "        \n",
        "- `optimizer`: It takes the optimizer algorithm method.\n",
        "        \n",
        "- `epoch_num`: Number of epochs for training.\n",
        "\n",
        "**`fit`:** It takes two arguments, input and target.\n",
        "\n",
        "This method does the following:\n",
        "1. Forward pass of the `model`  with the `input`.\n",
        "\n",
        "1. Finds loss, using forward pass and `target`.\n",
        "\n",
        "1. Finds `gradient`, using `backprop`.\n",
        "\n",
        "1. Updates parameters using, `step`\n",
        "\n",
        "**`predict`:** It takes `input` as an argument. Only does forward pass and returns prediction.\n"
      ]
    },
    {
      "cell_type": "code",
      "execution_count": null,
      "metadata": {
        "id": "phaNCKBLVOrO"
      },
      "outputs": [],
      "source": [
        "class Trainer:\n",
        "    def __init__(self, model, criterion, optimizer, epoch_num):\n",
        "        self.model = model\n",
        "\n",
        "        # loss function\n",
        "        self.criterion = criterion\n",
        "\n",
        "        # Optimizer\n",
        "        self.optimizer = optimizer\n",
        "\n",
        "        # num of epochs\n",
        "        self.epoch_num = epoch_num\n",
        "\n",
        "    def fit(self, inputs, targets):\n",
        "        \"\"\"\n",
        "        Updating model trainable parameters in loop for given number of epochs\n",
        "        \"\"\"\n",
        "\n",
        "        # set model in train state.\n",
        "        # Why this (and model.eval()) is important,\n",
        "        # we will see when we will train a deep neural network.\n",
        "        self.model.train()\n",
        "\n",
        "        # run train loop for given epochs\n",
        "        for epoch_idx in range(self.epoch_num):\n",
        "\n",
        "            # reset previously calculated gradient to zero\n",
        "            self.optimizer.zero_grad()\n",
        "\n",
        "            # predict probability of class '1'\n",
        "            preds = self.model(inputs).squeeze(dim=-1)\n",
        "\n",
        "            # get loss\n",
        "            loss = self.criterion(preds, targets)\n",
        "\n",
        "            # calculate gradients\n",
        "            loss.backward()\n",
        "\n",
        "            # update parameters with gradient\n",
        "            self.optimizer.step()\n",
        "\n",
        "            # Calculate Binary Accuracy.\n",
        "            pred_cls = (preds.squeeze(dim=-1) > 0.5).int()\n",
        "            correct = (pred_cls == targets).sum()\n",
        "            bin_acc = float(correct/len(targets))\n",
        "\n",
        "            status = f\"{f'{bold}[ Epoch: {epoch_idx+1} ]{reset}':=^80}\\n\"\n",
        "            status += f\"Loss: {loss.item():.4f} Accuracy: {bin_acc:.4f}\"\n",
        "            print(status)\n",
        "            print(\"\\n\")\n",
        "\n",
        "    def predict(self, inputs):\n",
        "\n",
        "        # set model in train state.\n",
        "        self.model.eval()\n",
        "        # temporarily set requires_grad flag to false\n",
        "        with torch.no_grad():\n",
        "            # probability of class one prediction\n",
        "            preds = self.model(inputs)\n",
        "        return preds"
      ]
    },
    {
      "cell_type": "markdown",
      "metadata": {
        "id": "BbeyvnZpVOrO"
      },
      "source": [
        "Before We need to split our data to train and test sets and feed it to the <a href=\"https://en.wikipedia.org/wiki/Logistic_regression\" target=_blank>Logistic Regression</a> classifier.\n",
        "\n",
        "We perform the following steps during training and evaluation:\n",
        "\n",
        "* Divide the data into `train` (75%) and `test` data (25 %).\n",
        "\n",
        "* Create a model object using `LogisticRegression` model class.\n",
        "\n",
        "* Define `criterion` as binary cross-entropy loss.\n",
        "\n",
        "* Define `optimizer` as `SGD` optimizer.\n",
        "\n",
        "* Create the trainer object.\n",
        "\n",
        "* Train the model using the `fit` method defined in `Trainer` class.\n",
        "\n",
        "* Finally, get predictions for test data."
      ]
    },
    {
      "cell_type": "code",
      "execution_count": null,
      "metadata": {
        "colab": {
          "base_uri": "https://localhost:8080/"
        },
        "id": "3TEwelK4VOrO",
        "outputId": "7394be39-52f6-4bde-dd3a-590d21346b4f"
      },
      "outputs": [
        {
          "output_type": "stream",
          "name": "stdout",
          "text": [
            "==============================\u001b[1m[ Epoch: 1 ]\u001b[0m==============================\n",
            "Loss: 1.0005 Accuracy: 0.5467\n",
            "\n",
            "\n",
            "==============================\u001b[1m[ Epoch: 2 ]\u001b[0m==============================\n",
            "Loss: 0.9870 Accuracy: 0.5467\n",
            "\n",
            "\n",
            "==============================\u001b[1m[ Epoch: 3 ]\u001b[0m==============================\n",
            "Loss: 0.9737 Accuracy: 0.5467\n",
            "\n",
            "\n",
            "==============================\u001b[1m[ Epoch: 4 ]\u001b[0m==============================\n",
            "Loss: 0.9606 Accuracy: 0.5467\n",
            "\n",
            "\n",
            "==============================\u001b[1m[ Epoch: 5 ]\u001b[0m==============================\n",
            "Loss: 0.9477 Accuracy: 0.5467\n",
            "\n",
            "\n",
            "==============================\u001b[1m[ Epoch: 6 ]\u001b[0m==============================\n",
            "Loss: 0.9350 Accuracy: 0.5467\n",
            "\n",
            "\n",
            "==============================\u001b[1m[ Epoch: 7 ]\u001b[0m==============================\n",
            "Loss: 0.9225 Accuracy: 0.5467\n",
            "\n",
            "\n",
            "==============================\u001b[1m[ Epoch: 8 ]\u001b[0m==============================\n",
            "Loss: 0.9102 Accuracy: 0.5467\n",
            "\n",
            "\n",
            "==============================\u001b[1m[ Epoch: 9 ]\u001b[0m==============================\n",
            "Loss: 0.8981 Accuracy: 0.5467\n",
            "\n",
            "\n",
            "=============================\u001b[1m[ Epoch: 10 ]\u001b[0m==============================\n",
            "Loss: 0.8862 Accuracy: 0.5467\n",
            "\n",
            "\n",
            "=============================\u001b[1m[ Epoch: 11 ]\u001b[0m==============================\n",
            "Loss: 0.8745 Accuracy: 0.5467\n",
            "\n",
            "\n",
            "=============================\u001b[1m[ Epoch: 12 ]\u001b[0m==============================\n",
            "Loss: 0.8631 Accuracy: 0.5467\n",
            "\n",
            "\n",
            "=============================\u001b[1m[ Epoch: 13 ]\u001b[0m==============================\n",
            "Loss: 0.8518 Accuracy: 0.5600\n",
            "\n",
            "\n",
            "=============================\u001b[1m[ Epoch: 14 ]\u001b[0m==============================\n",
            "Loss: 0.8408 Accuracy: 0.5600\n",
            "\n",
            "\n",
            "=============================\u001b[1m[ Epoch: 15 ]\u001b[0m==============================\n",
            "Loss: 0.8300 Accuracy: 0.5600\n",
            "\n",
            "\n",
            "=============================\u001b[1m[ Epoch: 16 ]\u001b[0m==============================\n",
            "Loss: 0.8194 Accuracy: 0.5600\n",
            "\n",
            "\n",
            "=============================\u001b[1m[ Epoch: 17 ]\u001b[0m==============================\n",
            "Loss: 0.8091 Accuracy: 0.5600\n",
            "\n",
            "\n",
            "=============================\u001b[1m[ Epoch: 18 ]\u001b[0m==============================\n",
            "Loss: 0.7990 Accuracy: 0.5600\n",
            "\n",
            "\n",
            "=============================\u001b[1m[ Epoch: 19 ]\u001b[0m==============================\n",
            "Loss: 0.7891 Accuracy: 0.5600\n",
            "\n",
            "\n",
            "=============================\u001b[1m[ Epoch: 20 ]\u001b[0m==============================\n",
            "Loss: 0.7794 Accuracy: 0.5600\n",
            "\n",
            "\n",
            "=============================\u001b[1m[ Epoch: 21 ]\u001b[0m==============================\n",
            "Loss: 0.7700 Accuracy: 0.5600\n",
            "\n",
            "\n",
            "=============================\u001b[1m[ Epoch: 22 ]\u001b[0m==============================\n",
            "Loss: 0.7608 Accuracy: 0.5600\n",
            "\n",
            "\n",
            "=============================\u001b[1m[ Epoch: 23 ]\u001b[0m==============================\n",
            "Loss: 0.7518 Accuracy: 0.5600\n",
            "\n",
            "\n",
            "=============================\u001b[1m[ Epoch: 24 ]\u001b[0m==============================\n",
            "Loss: 0.7431 Accuracy: 0.5600\n",
            "\n",
            "\n",
            "=============================\u001b[1m[ Epoch: 25 ]\u001b[0m==============================\n",
            "Loss: 0.7346 Accuracy: 0.5600\n",
            "\n",
            "\n",
            "=============================\u001b[1m[ Epoch: 26 ]\u001b[0m==============================\n",
            "Loss: 0.7263 Accuracy: 0.5600\n",
            "\n",
            "\n",
            "=============================\u001b[1m[ Epoch: 27 ]\u001b[0m==============================\n",
            "Loss: 0.7182 Accuracy: 0.5467\n",
            "\n",
            "\n",
            "=============================\u001b[1m[ Epoch: 28 ]\u001b[0m==============================\n",
            "Loss: 0.7104 Accuracy: 0.5467\n",
            "\n",
            "\n",
            "=============================\u001b[1m[ Epoch: 29 ]\u001b[0m==============================\n",
            "Loss: 0.7028 Accuracy: 0.5467\n",
            "\n",
            "\n",
            "=============================\u001b[1m[ Epoch: 30 ]\u001b[0m==============================\n",
            "Loss: 0.6955 Accuracy: 0.5467\n",
            "\n",
            "\n",
            "=============================\u001b[1m[ Epoch: 31 ]\u001b[0m==============================\n",
            "Loss: 0.6883 Accuracy: 0.5600\n",
            "\n",
            "\n",
            "=============================\u001b[1m[ Epoch: 32 ]\u001b[0m==============================\n",
            "Loss: 0.6814 Accuracy: 0.5600\n",
            "\n",
            "\n",
            "=============================\u001b[1m[ Epoch: 33 ]\u001b[0m==============================\n",
            "Loss: 0.6747 Accuracy: 0.5600\n",
            "\n",
            "\n",
            "=============================\u001b[1m[ Epoch: 34 ]\u001b[0m==============================\n",
            "Loss: 0.6682 Accuracy: 0.5600\n",
            "\n",
            "\n",
            "=============================\u001b[1m[ Epoch: 35 ]\u001b[0m==============================\n",
            "Loss: 0.6619 Accuracy: 0.5600\n",
            "\n",
            "\n",
            "=============================\u001b[1m[ Epoch: 36 ]\u001b[0m==============================\n",
            "Loss: 0.6559 Accuracy: 0.5733\n",
            "\n",
            "\n",
            "=============================\u001b[1m[ Epoch: 37 ]\u001b[0m==============================\n",
            "Loss: 0.6500 Accuracy: 0.5733\n",
            "\n",
            "\n",
            "=============================\u001b[1m[ Epoch: 38 ]\u001b[0m==============================\n",
            "Loss: 0.6444 Accuracy: 0.5733\n",
            "\n",
            "\n",
            "=============================\u001b[1m[ Epoch: 39 ]\u001b[0m==============================\n",
            "Loss: 0.6389 Accuracy: 0.5733\n",
            "\n",
            "\n",
            "=============================\u001b[1m[ Epoch: 40 ]\u001b[0m==============================\n",
            "Loss: 0.6337 Accuracy: 0.5733\n",
            "\n",
            "\n",
            "=============================\u001b[1m[ Epoch: 41 ]\u001b[0m==============================\n",
            "Loss: 0.6286 Accuracy: 0.5867\n",
            "\n",
            "\n",
            "=============================\u001b[1m[ Epoch: 42 ]\u001b[0m==============================\n",
            "Loss: 0.6237 Accuracy: 0.6133\n",
            "\n",
            "\n",
            "=============================\u001b[1m[ Epoch: 43 ]\u001b[0m==============================\n",
            "Loss: 0.6191 Accuracy: 0.6267\n",
            "\n",
            "\n",
            "=============================\u001b[1m[ Epoch: 44 ]\u001b[0m==============================\n",
            "Loss: 0.6145 Accuracy: 0.6267\n",
            "\n",
            "\n",
            "=============================\u001b[1m[ Epoch: 45 ]\u001b[0m==============================\n",
            "Loss: 0.6102 Accuracy: 0.6400\n",
            "\n",
            "\n",
            "=============================\u001b[1m[ Epoch: 46 ]\u001b[0m==============================\n",
            "Loss: 0.6060 Accuracy: 0.6400\n",
            "\n",
            "\n",
            "=============================\u001b[1m[ Epoch: 47 ]\u001b[0m==============================\n",
            "Loss: 0.6020 Accuracy: 0.6400\n",
            "\n",
            "\n",
            "=============================\u001b[1m[ Epoch: 48 ]\u001b[0m==============================\n",
            "Loss: 0.5982 Accuracy: 0.6533\n",
            "\n",
            "\n",
            "=============================\u001b[1m[ Epoch: 49 ]\u001b[0m==============================\n",
            "Loss: 0.5945 Accuracy: 0.6533\n",
            "\n",
            "\n",
            "=============================\u001b[1m[ Epoch: 50 ]\u001b[0m==============================\n",
            "Loss: 0.5910 Accuracy: 0.6533\n",
            "\n",
            "\n",
            "=============================\u001b[1m[ Epoch: 51 ]\u001b[0m==============================\n",
            "Loss: 0.5876 Accuracy: 0.6800\n",
            "\n",
            "\n",
            "=============================\u001b[1m[ Epoch: 52 ]\u001b[0m==============================\n",
            "Loss: 0.5843 Accuracy: 0.6800\n",
            "\n",
            "\n",
            "=============================\u001b[1m[ Epoch: 53 ]\u001b[0m==============================\n",
            "Loss: 0.5812 Accuracy: 0.6800\n",
            "\n",
            "\n",
            "=============================\u001b[1m[ Epoch: 54 ]\u001b[0m==============================\n",
            "Loss: 0.5782 Accuracy: 0.6800\n",
            "\n",
            "\n",
            "=============================\u001b[1m[ Epoch: 55 ]\u001b[0m==============================\n",
            "Loss: 0.5754 Accuracy: 0.6800\n",
            "\n",
            "\n",
            "=============================\u001b[1m[ Epoch: 56 ]\u001b[0m==============================\n",
            "Loss: 0.5726 Accuracy: 0.6800\n",
            "\n",
            "\n",
            "=============================\u001b[1m[ Epoch: 57 ]\u001b[0m==============================\n",
            "Loss: 0.5700 Accuracy: 0.6800\n",
            "\n",
            "\n",
            "=============================\u001b[1m[ Epoch: 58 ]\u001b[0m==============================\n",
            "Loss: 0.5675 Accuracy: 0.6800\n",
            "\n",
            "\n",
            "=============================\u001b[1m[ Epoch: 59 ]\u001b[0m==============================\n",
            "Loss: 0.5651 Accuracy: 0.6933\n",
            "\n",
            "\n",
            "=============================\u001b[1m[ Epoch: 60 ]\u001b[0m==============================\n",
            "Loss: 0.5628 Accuracy: 0.6800\n",
            "\n",
            "\n",
            "=============================\u001b[1m[ Epoch: 61 ]\u001b[0m==============================\n",
            "Loss: 0.5606 Accuracy: 0.6800\n",
            "\n",
            "\n",
            "=============================\u001b[1m[ Epoch: 62 ]\u001b[0m==============================\n",
            "Loss: 0.5585 Accuracy: 0.6933\n",
            "\n",
            "\n",
            "=============================\u001b[1m[ Epoch: 63 ]\u001b[0m==============================\n",
            "Loss: 0.5565 Accuracy: 0.6933\n",
            "\n",
            "\n",
            "=============================\u001b[1m[ Epoch: 64 ]\u001b[0m==============================\n",
            "Loss: 0.5546 Accuracy: 0.6933\n",
            "\n",
            "\n",
            "=============================\u001b[1m[ Epoch: 65 ]\u001b[0m==============================\n",
            "Loss: 0.5528 Accuracy: 0.6933\n",
            "\n",
            "\n",
            "=============================\u001b[1m[ Epoch: 66 ]\u001b[0m==============================\n",
            "Loss: 0.5510 Accuracy: 0.6933\n",
            "\n",
            "\n",
            "=============================\u001b[1m[ Epoch: 67 ]\u001b[0m==============================\n",
            "Loss: 0.5493 Accuracy: 0.6933\n",
            "\n",
            "\n",
            "=============================\u001b[1m[ Epoch: 68 ]\u001b[0m==============================\n",
            "Loss: 0.5477 Accuracy: 0.6933\n",
            "\n",
            "\n",
            "=============================\u001b[1m[ Epoch: 69 ]\u001b[0m==============================\n",
            "Loss: 0.5462 Accuracy: 0.6933\n",
            "\n",
            "\n",
            "=============================\u001b[1m[ Epoch: 70 ]\u001b[0m==============================\n",
            "Loss: 0.5447 Accuracy: 0.6933\n",
            "\n",
            "\n",
            "=============================\u001b[1m[ Epoch: 71 ]\u001b[0m==============================\n",
            "Loss: 0.5433 Accuracy: 0.6933\n",
            "\n",
            "\n",
            "=============================\u001b[1m[ Epoch: 72 ]\u001b[0m==============================\n",
            "Loss: 0.5420 Accuracy: 0.6933\n",
            "\n",
            "\n",
            "=============================\u001b[1m[ Epoch: 73 ]\u001b[0m==============================\n",
            "Loss: 0.5407 Accuracy: 0.6933\n",
            "\n",
            "\n",
            "=============================\u001b[1m[ Epoch: 74 ]\u001b[0m==============================\n",
            "Loss: 0.5394 Accuracy: 0.6933\n",
            "\n",
            "\n",
            "=============================\u001b[1m[ Epoch: 75 ]\u001b[0m==============================\n",
            "Loss: 0.5382 Accuracy: 0.6933\n",
            "\n",
            "\n",
            "=============================\u001b[1m[ Epoch: 76 ]\u001b[0m==============================\n",
            "Loss: 0.5371 Accuracy: 0.6933\n",
            "\n",
            "\n",
            "=============================\u001b[1m[ Epoch: 77 ]\u001b[0m==============================\n",
            "Loss: 0.5360 Accuracy: 0.6933\n",
            "\n",
            "\n",
            "=============================\u001b[1m[ Epoch: 78 ]\u001b[0m==============================\n",
            "Loss: 0.5350 Accuracy: 0.6933\n",
            "\n",
            "\n",
            "=============================\u001b[1m[ Epoch: 79 ]\u001b[0m==============================\n",
            "Loss: 0.5340 Accuracy: 0.6933\n",
            "\n",
            "\n",
            "=============================\u001b[1m[ Epoch: 80 ]\u001b[0m==============================\n",
            "Loss: 0.5330 Accuracy: 0.6933\n",
            "\n",
            "\n",
            "=============================\u001b[1m[ Epoch: 81 ]\u001b[0m==============================\n",
            "Loss: 0.5321 Accuracy: 0.6933\n",
            "\n",
            "\n",
            "=============================\u001b[1m[ Epoch: 82 ]\u001b[0m==============================\n",
            "Loss: 0.5312 Accuracy: 0.6933\n",
            "\n",
            "\n",
            "=============================\u001b[1m[ Epoch: 83 ]\u001b[0m==============================\n",
            "Loss: 0.5303 Accuracy: 0.6800\n",
            "\n",
            "\n",
            "=============================\u001b[1m[ Epoch: 84 ]\u001b[0m==============================\n",
            "Loss: 0.5295 Accuracy: 0.6800\n",
            "\n",
            "\n",
            "=============================\u001b[1m[ Epoch: 85 ]\u001b[0m==============================\n",
            "Loss: 0.5287 Accuracy: 0.6933\n",
            "\n",
            "\n",
            "=============================\u001b[1m[ Epoch: 86 ]\u001b[0m==============================\n",
            "Loss: 0.5279 Accuracy: 0.6933\n",
            "\n",
            "\n",
            "=============================\u001b[1m[ Epoch: 87 ]\u001b[0m==============================\n",
            "Loss: 0.5271 Accuracy: 0.6933\n",
            "\n",
            "\n",
            "=============================\u001b[1m[ Epoch: 88 ]\u001b[0m==============================\n",
            "Loss: 0.5264 Accuracy: 0.6933\n",
            "\n",
            "\n",
            "=============================\u001b[1m[ Epoch: 89 ]\u001b[0m==============================\n",
            "Loss: 0.5257 Accuracy: 0.6933\n",
            "\n",
            "\n",
            "=============================\u001b[1m[ Epoch: 90 ]\u001b[0m==============================\n",
            "Loss: 0.5250 Accuracy: 0.6933\n",
            "\n",
            "\n",
            "=============================\u001b[1m[ Epoch: 91 ]\u001b[0m==============================\n",
            "Loss: 0.5244 Accuracy: 0.6800\n",
            "\n",
            "\n",
            "=============================\u001b[1m[ Epoch: 92 ]\u001b[0m==============================\n",
            "Loss: 0.5238 Accuracy: 0.6800\n",
            "\n",
            "\n",
            "=============================\u001b[1m[ Epoch: 93 ]\u001b[0m==============================\n",
            "Loss: 0.5231 Accuracy: 0.6800\n",
            "\n",
            "\n",
            "=============================\u001b[1m[ Epoch: 94 ]\u001b[0m==============================\n",
            "Loss: 0.5226 Accuracy: 0.6933\n",
            "\n",
            "\n",
            "=============================\u001b[1m[ Epoch: 95 ]\u001b[0m==============================\n",
            "Loss: 0.5220 Accuracy: 0.6933\n",
            "\n",
            "\n",
            "=============================\u001b[1m[ Epoch: 96 ]\u001b[0m==============================\n",
            "Loss: 0.5214 Accuracy: 0.6933\n",
            "\n",
            "\n",
            "=============================\u001b[1m[ Epoch: 97 ]\u001b[0m==============================\n",
            "Loss: 0.5209 Accuracy: 0.6933\n",
            "\n",
            "\n",
            "=============================\u001b[1m[ Epoch: 98 ]\u001b[0m==============================\n",
            "Loss: 0.5203 Accuracy: 0.7067\n",
            "\n",
            "\n",
            "=============================\u001b[1m[ Epoch: 99 ]\u001b[0m==============================\n",
            "Loss: 0.5198 Accuracy: 0.7067\n",
            "\n",
            "\n",
            "=============================\u001b[1m[ Epoch: 100 ]\u001b[0m=============================\n",
            "Loss: 0.5193 Accuracy: 0.7067\n",
            "\n",
            "\n",
            "=============================\u001b[1m[ Epoch: 101 ]\u001b[0m=============================\n",
            "Loss: 0.5188 Accuracy: 0.7333\n",
            "\n",
            "\n",
            "=============================\u001b[1m[ Epoch: 102 ]\u001b[0m=============================\n",
            "Loss: 0.5183 Accuracy: 0.7333\n",
            "\n",
            "\n",
            "=============================\u001b[1m[ Epoch: 103 ]\u001b[0m=============================\n",
            "Loss: 0.5179 Accuracy: 0.7333\n",
            "\n",
            "\n",
            "=============================\u001b[1m[ Epoch: 104 ]\u001b[0m=============================\n",
            "Loss: 0.5174 Accuracy: 0.7467\n",
            "\n",
            "\n",
            "=============================\u001b[1m[ Epoch: 105 ]\u001b[0m=============================\n",
            "Loss: 0.5170 Accuracy: 0.7467\n",
            "\n",
            "\n",
            "=============================\u001b[1m[ Epoch: 106 ]\u001b[0m=============================\n",
            "Loss: 0.5165 Accuracy: 0.7467\n",
            "\n",
            "\n",
            "=============================\u001b[1m[ Epoch: 107 ]\u001b[0m=============================\n",
            "Loss: 0.5161 Accuracy: 0.7467\n",
            "\n",
            "\n",
            "=============================\u001b[1m[ Epoch: 108 ]\u001b[0m=============================\n",
            "Loss: 0.5157 Accuracy: 0.7467\n",
            "\n",
            "\n",
            "=============================\u001b[1m[ Epoch: 109 ]\u001b[0m=============================\n",
            "Loss: 0.5153 Accuracy: 0.7467\n",
            "\n",
            "\n",
            "=============================\u001b[1m[ Epoch: 110 ]\u001b[0m=============================\n",
            "Loss: 0.5149 Accuracy: 0.7467\n",
            "\n",
            "\n",
            "=============================\u001b[1m[ Epoch: 111 ]\u001b[0m=============================\n",
            "Loss: 0.5145 Accuracy: 0.7467\n",
            "\n",
            "\n",
            "=============================\u001b[1m[ Epoch: 112 ]\u001b[0m=============================\n",
            "Loss: 0.5141 Accuracy: 0.7467\n",
            "\n",
            "\n",
            "=============================\u001b[1m[ Epoch: 113 ]\u001b[0m=============================\n",
            "Loss: 0.5137 Accuracy: 0.7467\n",
            "\n",
            "\n",
            "=============================\u001b[1m[ Epoch: 114 ]\u001b[0m=============================\n",
            "Loss: 0.5133 Accuracy: 0.7467\n",
            "\n",
            "\n",
            "=============================\u001b[1m[ Epoch: 115 ]\u001b[0m=============================\n",
            "Loss: 0.5130 Accuracy: 0.7467\n",
            "\n",
            "\n",
            "=============================\u001b[1m[ Epoch: 116 ]\u001b[0m=============================\n",
            "Loss: 0.5126 Accuracy: 0.7467\n",
            "\n",
            "\n",
            "=============================\u001b[1m[ Epoch: 117 ]\u001b[0m=============================\n",
            "Loss: 0.5123 Accuracy: 0.7467\n",
            "\n",
            "\n",
            "=============================\u001b[1m[ Epoch: 118 ]\u001b[0m=============================\n",
            "Loss: 0.5119 Accuracy: 0.7467\n",
            "\n",
            "\n",
            "=============================\u001b[1m[ Epoch: 119 ]\u001b[0m=============================\n",
            "Loss: 0.5116 Accuracy: 0.7467\n",
            "\n",
            "\n",
            "=============================\u001b[1m[ Epoch: 120 ]\u001b[0m=============================\n",
            "Loss: 0.5112 Accuracy: 0.7467\n",
            "\n",
            "\n",
            "=============================\u001b[1m[ Epoch: 121 ]\u001b[0m=============================\n",
            "Loss: 0.5109 Accuracy: 0.7467\n",
            "\n",
            "\n",
            "=============================\u001b[1m[ Epoch: 122 ]\u001b[0m=============================\n",
            "Loss: 0.5105 Accuracy: 0.7467\n",
            "\n",
            "\n",
            "=============================\u001b[1m[ Epoch: 123 ]\u001b[0m=============================\n",
            "Loss: 0.5102 Accuracy: 0.7467\n",
            "\n",
            "\n",
            "=============================\u001b[1m[ Epoch: 124 ]\u001b[0m=============================\n",
            "Loss: 0.5099 Accuracy: 0.7467\n",
            "\n",
            "\n",
            "=============================\u001b[1m[ Epoch: 125 ]\u001b[0m=============================\n",
            "Loss: 0.5096 Accuracy: 0.7467\n",
            "\n",
            "\n",
            "=============================\u001b[1m[ Epoch: 126 ]\u001b[0m=============================\n",
            "Loss: 0.5093 Accuracy: 0.7467\n",
            "\n",
            "\n",
            "=============================\u001b[1m[ Epoch: 127 ]\u001b[0m=============================\n",
            "Loss: 0.5090 Accuracy: 0.7467\n",
            "\n",
            "\n",
            "=============================\u001b[1m[ Epoch: 128 ]\u001b[0m=============================\n",
            "Loss: 0.5086 Accuracy: 0.7467\n",
            "\n",
            "\n",
            "=============================\u001b[1m[ Epoch: 129 ]\u001b[0m=============================\n",
            "Loss: 0.5083 Accuracy: 0.7467\n",
            "\n",
            "\n",
            "=============================\u001b[1m[ Epoch: 130 ]\u001b[0m=============================\n",
            "Loss: 0.5080 Accuracy: 0.7467\n",
            "\n",
            "\n",
            "=============================\u001b[1m[ Epoch: 131 ]\u001b[0m=============================\n",
            "Loss: 0.5077 Accuracy: 0.7467\n",
            "\n",
            "\n",
            "=============================\u001b[1m[ Epoch: 132 ]\u001b[0m=============================\n",
            "Loss: 0.5074 Accuracy: 0.7467\n",
            "\n",
            "\n",
            "=============================\u001b[1m[ Epoch: 133 ]\u001b[0m=============================\n",
            "Loss: 0.5072 Accuracy: 0.7467\n",
            "\n",
            "\n",
            "=============================\u001b[1m[ Epoch: 134 ]\u001b[0m=============================\n",
            "Loss: 0.5069 Accuracy: 0.7467\n",
            "\n",
            "\n",
            "=============================\u001b[1m[ Epoch: 135 ]\u001b[0m=============================\n",
            "Loss: 0.5066 Accuracy: 0.7467\n",
            "\n",
            "\n",
            "=============================\u001b[1m[ Epoch: 136 ]\u001b[0m=============================\n",
            "Loss: 0.5063 Accuracy: 0.7467\n",
            "\n",
            "\n",
            "=============================\u001b[1m[ Epoch: 137 ]\u001b[0m=============================\n",
            "Loss: 0.5060 Accuracy: 0.7467\n",
            "\n",
            "\n",
            "=============================\u001b[1m[ Epoch: 138 ]\u001b[0m=============================\n",
            "Loss: 0.5057 Accuracy: 0.7467\n",
            "\n",
            "\n",
            "=============================\u001b[1m[ Epoch: 139 ]\u001b[0m=============================\n",
            "Loss: 0.5055 Accuracy: 0.7467\n",
            "\n",
            "\n",
            "=============================\u001b[1m[ Epoch: 140 ]\u001b[0m=============================\n",
            "Loss: 0.5052 Accuracy: 0.7467\n",
            "\n",
            "\n",
            "=============================\u001b[1m[ Epoch: 141 ]\u001b[0m=============================\n",
            "Loss: 0.5049 Accuracy: 0.7467\n",
            "\n",
            "\n",
            "=============================\u001b[1m[ Epoch: 142 ]\u001b[0m=============================\n",
            "Loss: 0.5047 Accuracy: 0.7467\n",
            "\n",
            "\n",
            "=============================\u001b[1m[ Epoch: 143 ]\u001b[0m=============================\n",
            "Loss: 0.5044 Accuracy: 0.7467\n",
            "\n",
            "\n",
            "=============================\u001b[1m[ Epoch: 144 ]\u001b[0m=============================\n",
            "Loss: 0.5041 Accuracy: 0.7467\n",
            "\n",
            "\n",
            "=============================\u001b[1m[ Epoch: 145 ]\u001b[0m=============================\n",
            "Loss: 0.5039 Accuracy: 0.7467\n",
            "\n",
            "\n",
            "=============================\u001b[1m[ Epoch: 146 ]\u001b[0m=============================\n",
            "Loss: 0.5036 Accuracy: 0.7467\n",
            "\n",
            "\n",
            "=============================\u001b[1m[ Epoch: 147 ]\u001b[0m=============================\n",
            "Loss: 0.5034 Accuracy: 0.7467\n",
            "\n",
            "\n",
            "=============================\u001b[1m[ Epoch: 148 ]\u001b[0m=============================\n",
            "Loss: 0.5031 Accuracy: 0.7467\n",
            "\n",
            "\n",
            "=============================\u001b[1m[ Epoch: 149 ]\u001b[0m=============================\n",
            "Loss: 0.5029 Accuracy: 0.7467\n",
            "\n",
            "\n",
            "=============================\u001b[1m[ Epoch: 150 ]\u001b[0m=============================\n",
            "Loss: 0.5026 Accuracy: 0.7467\n",
            "\n",
            "\n",
            "=============================\u001b[1m[ Epoch: 151 ]\u001b[0m=============================\n",
            "Loss: 0.5024 Accuracy: 0.7467\n",
            "\n",
            "\n",
            "=============================\u001b[1m[ Epoch: 152 ]\u001b[0m=============================\n",
            "Loss: 0.5021 Accuracy: 0.7467\n",
            "\n",
            "\n",
            "=============================\u001b[1m[ Epoch: 153 ]\u001b[0m=============================\n",
            "Loss: 0.5019 Accuracy: 0.7467\n",
            "\n",
            "\n",
            "=============================\u001b[1m[ Epoch: 154 ]\u001b[0m=============================\n",
            "Loss: 0.5016 Accuracy: 0.7467\n",
            "\n",
            "\n",
            "=============================\u001b[1m[ Epoch: 155 ]\u001b[0m=============================\n",
            "Loss: 0.5014 Accuracy: 0.7467\n",
            "\n",
            "\n",
            "=============================\u001b[1m[ Epoch: 156 ]\u001b[0m=============================\n",
            "Loss: 0.5011 Accuracy: 0.7467\n",
            "\n",
            "\n",
            "=============================\u001b[1m[ Epoch: 157 ]\u001b[0m=============================\n",
            "Loss: 0.5009 Accuracy: 0.7467\n",
            "\n",
            "\n",
            "=============================\u001b[1m[ Epoch: 158 ]\u001b[0m=============================\n",
            "Loss: 0.5007 Accuracy: 0.7467\n",
            "\n",
            "\n",
            "=============================\u001b[1m[ Epoch: 159 ]\u001b[0m=============================\n",
            "Loss: 0.5004 Accuracy: 0.7467\n",
            "\n",
            "\n",
            "=============================\u001b[1m[ Epoch: 160 ]\u001b[0m=============================\n",
            "Loss: 0.5002 Accuracy: 0.7467\n",
            "\n",
            "\n",
            "=============================\u001b[1m[ Epoch: 161 ]\u001b[0m=============================\n",
            "Loss: 0.5000 Accuracy: 0.7467\n",
            "\n",
            "\n",
            "=============================\u001b[1m[ Epoch: 162 ]\u001b[0m=============================\n",
            "Loss: 0.4998 Accuracy: 0.7467\n",
            "\n",
            "\n",
            "=============================\u001b[1m[ Epoch: 163 ]\u001b[0m=============================\n",
            "Loss: 0.4995 Accuracy: 0.7467\n",
            "\n",
            "\n",
            "=============================\u001b[1m[ Epoch: 164 ]\u001b[0m=============================\n",
            "Loss: 0.4993 Accuracy: 0.7467\n",
            "\n",
            "\n",
            "=============================\u001b[1m[ Epoch: 165 ]\u001b[0m=============================\n",
            "Loss: 0.4991 Accuracy: 0.7467\n",
            "\n",
            "\n",
            "=============================\u001b[1m[ Epoch: 166 ]\u001b[0m=============================\n",
            "Loss: 0.4989 Accuracy: 0.7467\n",
            "\n",
            "\n",
            "=============================\u001b[1m[ Epoch: 167 ]\u001b[0m=============================\n",
            "Loss: 0.4986 Accuracy: 0.7467\n",
            "\n",
            "\n",
            "=============================\u001b[1m[ Epoch: 168 ]\u001b[0m=============================\n",
            "Loss: 0.4984 Accuracy: 0.7467\n",
            "\n",
            "\n",
            "=============================\u001b[1m[ Epoch: 169 ]\u001b[0m=============================\n",
            "Loss: 0.4982 Accuracy: 0.7467\n",
            "\n",
            "\n",
            "=============================\u001b[1m[ Epoch: 170 ]\u001b[0m=============================\n",
            "Loss: 0.4980 Accuracy: 0.7467\n",
            "\n",
            "\n",
            "=============================\u001b[1m[ Epoch: 171 ]\u001b[0m=============================\n",
            "Loss: 0.4978 Accuracy: 0.7467\n",
            "\n",
            "\n",
            "=============================\u001b[1m[ Epoch: 172 ]\u001b[0m=============================\n",
            "Loss: 0.4976 Accuracy: 0.7467\n",
            "\n",
            "\n",
            "=============================\u001b[1m[ Epoch: 173 ]\u001b[0m=============================\n",
            "Loss: 0.4973 Accuracy: 0.7467\n",
            "\n",
            "\n",
            "=============================\u001b[1m[ Epoch: 174 ]\u001b[0m=============================\n",
            "Loss: 0.4971 Accuracy: 0.7467\n",
            "\n",
            "\n",
            "=============================\u001b[1m[ Epoch: 175 ]\u001b[0m=============================\n",
            "Loss: 0.4969 Accuracy: 0.7467\n",
            "\n",
            "\n",
            "=============================\u001b[1m[ Epoch: 176 ]\u001b[0m=============================\n",
            "Loss: 0.4967 Accuracy: 0.7467\n",
            "\n",
            "\n",
            "=============================\u001b[1m[ Epoch: 177 ]\u001b[0m=============================\n",
            "Loss: 0.4965 Accuracy: 0.7467\n",
            "\n",
            "\n",
            "=============================\u001b[1m[ Epoch: 178 ]\u001b[0m=============================\n",
            "Loss: 0.4963 Accuracy: 0.7467\n",
            "\n",
            "\n",
            "=============================\u001b[1m[ Epoch: 179 ]\u001b[0m=============================\n",
            "Loss: 0.4961 Accuracy: 0.7467\n",
            "\n",
            "\n",
            "=============================\u001b[1m[ Epoch: 180 ]\u001b[0m=============================\n",
            "Loss: 0.4959 Accuracy: 0.7467\n",
            "\n",
            "\n",
            "=============================\u001b[1m[ Epoch: 181 ]\u001b[0m=============================\n",
            "Loss: 0.4957 Accuracy: 0.7467\n",
            "\n",
            "\n",
            "=============================\u001b[1m[ Epoch: 182 ]\u001b[0m=============================\n",
            "Loss: 0.4955 Accuracy: 0.7467\n",
            "\n",
            "\n",
            "=============================\u001b[1m[ Epoch: 183 ]\u001b[0m=============================\n",
            "Loss: 0.4953 Accuracy: 0.7467\n",
            "\n",
            "\n",
            "=============================\u001b[1m[ Epoch: 184 ]\u001b[0m=============================\n",
            "Loss: 0.4951 Accuracy: 0.7467\n",
            "\n",
            "\n",
            "=============================\u001b[1m[ Epoch: 185 ]\u001b[0m=============================\n",
            "Loss: 0.4949 Accuracy: 0.7467\n",
            "\n",
            "\n",
            "=============================\u001b[1m[ Epoch: 186 ]\u001b[0m=============================\n",
            "Loss: 0.4947 Accuracy: 0.7467\n",
            "\n",
            "\n",
            "=============================\u001b[1m[ Epoch: 187 ]\u001b[0m=============================\n",
            "Loss: 0.4945 Accuracy: 0.7467\n",
            "\n",
            "\n",
            "=============================\u001b[1m[ Epoch: 188 ]\u001b[0m=============================\n",
            "Loss: 0.4943 Accuracy: 0.7600\n",
            "\n",
            "\n",
            "=============================\u001b[1m[ Epoch: 189 ]\u001b[0m=============================\n",
            "Loss: 0.4941 Accuracy: 0.7733\n",
            "\n",
            "\n",
            "=============================\u001b[1m[ Epoch: 190 ]\u001b[0m=============================\n",
            "Loss: 0.4940 Accuracy: 0.7733\n",
            "\n",
            "\n",
            "=============================\u001b[1m[ Epoch: 191 ]\u001b[0m=============================\n",
            "Loss: 0.4938 Accuracy: 0.7733\n",
            "\n",
            "\n",
            "=============================\u001b[1m[ Epoch: 192 ]\u001b[0m=============================\n",
            "Loss: 0.4936 Accuracy: 0.7733\n",
            "\n",
            "\n",
            "=============================\u001b[1m[ Epoch: 193 ]\u001b[0m=============================\n",
            "Loss: 0.4934 Accuracy: 0.7733\n",
            "\n",
            "\n",
            "=============================\u001b[1m[ Epoch: 194 ]\u001b[0m=============================\n",
            "Loss: 0.4932 Accuracy: 0.7733\n",
            "\n",
            "\n",
            "=============================\u001b[1m[ Epoch: 195 ]\u001b[0m=============================\n",
            "Loss: 0.4930 Accuracy: 0.7733\n",
            "\n",
            "\n",
            "=============================\u001b[1m[ Epoch: 196 ]\u001b[0m=============================\n",
            "Loss: 0.4928 Accuracy: 0.7733\n",
            "\n",
            "\n",
            "=============================\u001b[1m[ Epoch: 197 ]\u001b[0m=============================\n",
            "Loss: 0.4927 Accuracy: 0.7600\n",
            "\n",
            "\n",
            "=============================\u001b[1m[ Epoch: 198 ]\u001b[0m=============================\n",
            "Loss: 0.4925 Accuracy: 0.7600\n",
            "\n",
            "\n",
            "=============================\u001b[1m[ Epoch: 199 ]\u001b[0m=============================\n",
            "Loss: 0.4923 Accuracy: 0.7600\n",
            "\n",
            "\n",
            "=============================\u001b[1m[ Epoch: 200 ]\u001b[0m=============================\n",
            "Loss: 0.4921 Accuracy: 0.7600\n",
            "\n",
            "\n"
          ]
        }
      ],
      "source": [
        "# Divide data into train (0.75) and test (0.25) set.\n",
        "x_train, x_test, y_train, y_test = train_test_split(X, y, test_size=0.25, random_state=seed)\n",
        "\n",
        "# train data from numpy to torch\n",
        "x_train, y_train = torch.from_numpy(x_train).float(), torch.from_numpy(y_train).float()\n",
        "\n",
        "# create model object\n",
        "log_regression = LogisticRegression(n_features=2)\n",
        "\n",
        "# define loss, in this case binary cross-entropy loss\n",
        "criterion = nn.BCELoss()\n",
        "\n",
        "# define optimizer, in this case Stochastic Gradient Descent\n",
        "optimizer = torch.optim.SGD(log_regression.parameters(), lr=0.01)\n",
        "\n",
        "# create trainer object\n",
        "trainer = Trainer(log_regression, criterion, optimizer, 200)\n",
        "\n",
        "# train the model\n",
        "trainer.fit(x_train, y_train)\n",
        "\n",
        "# test data from numpy to torch\n",
        "x_test, y_test = torch.from_numpy(x_test).float(), torch.from_numpy(y_test).float()\n",
        "\n",
        "# probability of class one prediction\n",
        "y_predicted = trainer.predict(x_test)"
      ]
    },
    {
      "cell_type": "markdown",
      "metadata": {
        "id": "LrgTFWCmVOrO"
      },
      "source": [
        "## 5 Confusion Matrix\n",
        "\n",
        "<img src=\"https://www.learnopencv.com/wp-content/uploads/2020/01/c3_w3_confusion_matrix.png\" width=600>\n",
        "\n",
        "Let's assume class `1` is a **`positive`** class, and class `0` is **`negative`** class."
      ]
    },
    {
      "cell_type": "markdown",
      "metadata": {
        "id": "IEKnTxioVOrO"
      },
      "source": [
        "The [BinaryConfusionMatrix](https://torchmetrics.readthedocs.io/en/stable/classification/confusion_matrix.html#binaryconfusionmatrix) class in TorchMetrics is used to compute the Confusion matrix in binary classification.\n",
        "\n",
        "The `compute()` function returns the final confusion matrix whose i-th row and j-th column entry indicates the number of samples in the ground truth labels being i-th class and predicted label being j-th class.\n",
        "\n",
        "***Note***: *The true labels and predicted values should have the same dimension. Therefore, in the following code block, we are removing the last dimension in `y_predicted` using `squeeze`.*"
      ]
    },
    {
      "cell_type": "code",
      "execution_count": null,
      "metadata": {
        "colab": {
          "base_uri": "https://localhost:8080/",
          "height": 1000
        },
        "id": "_VrW4VjAVOrO",
        "outputId": "4407f5c0-047a-421a-d00e-eb6ff4af8dad"
      },
      "outputs": [
        {
          "output_type": "display_data",
          "data": {
            "text/plain": [
              "<Figure size 1200x500 with 2 Axes>"
            ],
            "image/png": "[encoded data removed]"
          },
          "metadata": {}
        },
        {
          "output_type": "stream",
          "name": "stdout",
          "text": [
            "\n",
            "\n"
          ]
        },
        {
          "output_type": "display_data",
          "data": {
            "text/plain": [
              "<Figure size 1200x500 with 2 Axes>"
            ],
            "image/png": "[encoded data removed]"
          },
          "metadata": {}
        }
      ],
      "source": [
        "# threshold probability 0.5\n",
        "cm_t1 = BinaryConfusionMatrix(threshold=0.5)\n",
        "cm_t1.update(y_predicted.squeeze(-1), y_test)\n",
        "cm_t1_final = cm_t1.compute().numpy()\n",
        "\n",
        "plt.figure(figsize=[12, 5])\n",
        "sns.heatmap(cm_t1_final, annot=True, fmt='d', annot_kws={\"size\": 16})\n",
        "plt.xlabel(r\"$\\bf{Prediction}$\")\n",
        "plt.ylabel(r\"$\\bf{Target}$\")\n",
        "plt.title(r\"$\\bf{Confusion\\ Matrix\\ for\\ threshold\\ probability\\ 0.5}$\", color=\"gray\")\n",
        "plt.show()\n",
        "\n",
        "print(\"\\n\")\n",
        "\n",
        "# threshold probability 0.6\n",
        "cm_t2 = BinaryConfusionMatrix(threshold=0.6)\n",
        "cm_t2.update(y_predicted.squeeze(-1), y_test)\n",
        "cm_t2_final = cm_t2.compute().numpy()\n",
        "\n",
        "plt.figure(figsize=[12, 5])\n",
        "sns.heatmap(cm_t2_final, annot=True, fmt='d', annot_kws={\"size\": 16})\n",
        "plt.xlabel(r\"$\\bf{Prediction}$\")\n",
        "plt.ylabel(r\"$\\bf{Target}$\")\n",
        "plt.title(r\"$\\bf{Confusion\\ Matrix\\ for\\ threshold\\ probability\\ 0.6}$\", color=\"gray\")\n",
        "plt.show()\n"
      ]
    },
    {
      "cell_type": "markdown",
      "metadata": {
        "id": "RfZ6sJKtVOrP"
      },
      "source": [
        "The `BinaryConfusionMatrix` class also has provisions for normalizing the confusion matrix over the targets (`true`) or across the predictions (`pred`). This is achieved by passing in the `normalize` argument with the appropriate string."
      ]
    },
    {
      "cell_type": "code",
      "execution_count": null,
      "metadata": {
        "colab": {
          "base_uri": "https://localhost:8080/",
          "height": 494
        },
        "id": "jteEXSj7VOrP",
        "outputId": "b3fb58af-bc9e-46eb-845b-8d048ba31cdc"
      },
      "outputs": [
        {
          "output_type": "display_data",
          "data": {
            "text/plain": [
              "<Figure size 1200x500 with 2 Axes>"
            ],
            "image/png": "[encoded data removed]"
          },
          "metadata": {}
        }
      ],
      "source": [
        "cm_norm = BinaryConfusionMatrix(threshold=0.5, normalize=\"true\")\n",
        "cm_norm.update(y_predicted.squeeze(-1), y_test)\n",
        "cm_norm_final = cm_norm.compute().numpy()\n",
        "\n",
        "plt.figure(figsize=[12, 5])\n",
        "sns.heatmap(cm_norm_final, annot=True, annot_kws={\"size\": 16})\n",
        "plt.xlabel(r\"$\\bf{Prediction}$\")\n",
        "plt.ylabel(r\"$\\bf{Target}$\")\n",
        "plt.title(r\"$\\bf{Normalized\\ Confusion\\ Matrix\\ (t\\ = \\ 0.5)}$\", color=\"gray\")\n",
        "plt.show()"
      ]
    },
    {
      "cell_type": "markdown",
      "metadata": {
        "id": "e23KiO58VOrP"
      },
      "source": [
        "## 6 Accuracy\n",
        "\n",
        "<img src=\"https://www.learnopencv.com/wp-content/uploads/2020/01/c3_w3_accuracy.png\" width=600>\n",
        "\n",
        "$$\n",
        "accuracy = \\frac{TP + TN}{TF + FP + FN + TN }\n",
        "$$"
      ]
    },
    {
      "cell_type": "markdown",
      "metadata": {
        "id": "u5dKzJvcVOrP"
      },
      "source": [
        "We can use [BinaryAccuracy](https://torchmetrics.readthedocs.io/en/stable/classification/accuracy.html#binaryaccuracy) class to calculate the accuracy. We just need to update the `y_predicted` and `y_test` tensors, and initialize the class with the appropriate `threshold`.\n",
        "\n",
        "***Note***: *The true labels and predicted values should have the same dimension. Therefore, in the following code block, we are removing the last dimension in `y_predicted` using `squeeze`.*"
      ]
    },
    {
      "cell_type": "code",
      "execution_count": null,
      "metadata": {
        "colab": {
          "base_uri": "https://localhost:8080/"
        },
        "id": "bh01UjK0VOrP",
        "outputId": "6a065f92-8e1d-4b4c-bf3f-d6509c50c442"
      },
      "outputs": [
        {
          "output_type": "stream",
          "name": "stdout",
          "text": [
            "Accuracy for threshold probability 0.5: \u001b[1m0.6400\u001b[0m\n"
          ]
        }
      ],
      "source": [
        "accuracy = BinaryAccuracy(threshold=0.5)\n",
        "\n",
        "accuracy.update(y_predicted.squeeze(-1), y_test)\n",
        "\n",
        "print(f\"Accuracy for threshold probability 0.5: {bold}{accuracy.compute():.4f}{reset}\")"
      ]
    },
    {
      "cell_type": "markdown",
      "metadata": {
        "id": "YN9H1u8kVOrP"
      },
      "source": [
        "## 7 Precision\n",
        "\n",
        "<img src=\"https://www.learnopencv.com/wp-content/uploads/2020/01/c3_w3_precision.png\" width=600>\n",
        "\n",
        "$$\n",
        "precision = \\frac{TP}{TP + FP}\n",
        "$$"
      ]
    },
    {
      "cell_type": "markdown",
      "metadata": {
        "id": "hTjWKDd2VOrP"
      },
      "source": [
        "To calculate the precision value at a certain threshold, we can use `BinaryPrecision` class. See the docs [here](https://torchmetrics.readthedocs.io/en/stable/classification/precision.html#binaryprecision).\n",
        "\n",
        "***Note***: *The true labels and predicted values should have the same dimension. Therefore, in the following code block, we are removing the last dimension in `y_predicted` using `squeeze`.*"
      ]
    },
    {
      "cell_type": "code",
      "execution_count": null,
      "metadata": {
        "colab": {
          "base_uri": "https://localhost:8080/"
        },
        "id": "sxtzWsGzVOrP",
        "outputId": "987c689e-cc99-454b-871c-21fb6280c037"
      },
      "outputs": [
        {
          "output_type": "stream",
          "name": "stdout",
          "text": [
            "Precision for threshold probability 0.5: \u001b[1m0.5714\u001b[0m\n"
          ]
        }
      ],
      "source": [
        "precision = BinaryPrecision(threshold=0.5)\n",
        "\n",
        "precision.update(y_predicted.squeeze(-1), y_test)\n",
        "\n",
        "print(f\"Precision for threshold probability 0.5: {bold}{precision.compute():.4f}{reset}\")"
      ]
    },
    {
      "cell_type": "markdown",
      "metadata": {
        "id": "qZDUIQTjVOrP"
      },
      "source": [
        "## 8 Recall / Sensitivity\n",
        "\n",
        "<img src='https://www.learnopencv.com/wp-content/uploads/2020/01/c3_w3_recall.png' width=600>\n",
        "\n",
        "$$\n",
        "recall = \\frac{TP}{TP + FN}\n",
        "$$"
      ]
    },
    {
      "cell_type": "markdown",
      "metadata": {
        "id": "QfXAj4VWVOrP"
      },
      "source": [
        "To calculate the precision value at a certain threshold, we can use `BinaryRecall` class. See the docs [here](https://torchmetrics.readthedocs.io/en/stable/classification/recall.html#binaryrecall).\n",
        "\n",
        "***Note***: *The true labels and predicted values should have the same dimension. Therefore, in the following code block, we are removing the last dimension in `y_predicted` using `squeeze`.*"
      ]
    },
    {
      "cell_type": "code",
      "execution_count": null,
      "metadata": {
        "colab": {
          "base_uri": "https://localhost:8080/"
        },
        "id": "oteTA2NXVOrQ",
        "outputId": "3531007d-c625-4cea-ec60-14c801e727aa"
      },
      "outputs": [
        {
          "output_type": "stream",
          "name": "stdout",
          "text": [
            "Recall for threshold probability 0.5: \u001b[1m0.7273\u001b[0m\n"
          ]
        }
      ],
      "source": [
        "recall = BinaryRecall(threshold=0.5)\n",
        "\n",
        "recall.update(y_predicted.squeeze(-1), y_test)\n",
        "\n",
        "print(f\"Recall for threshold probability 0.5: {bold}{recall.compute():.4f}{reset}\")"
      ]
    },
    {
      "cell_type": "markdown",
      "metadata": {
        "id": "D6QQXuRMVOrQ"
      },
      "source": [
        "## 9 F-1 Score\n",
        "\n",
        "$$\n",
        "F_1 score = \\frac{2 TP}{2TP + FP + FN}\n",
        "$$\n"
      ]
    },
    {
      "cell_type": "markdown",
      "metadata": {
        "id": "skV4J02YVOrQ"
      },
      "source": [
        "To calculate the precision value at a certain threshold, we can use `BinaryF1Score` class. See the docs [here](https://torchmetrics.readthedocs.io/en/stable/classification/f1_score.html#binaryf1score).\n",
        "\n",
        "***Note***: *The true labels and predicted values should have the same dimension. Therefore, in the following code block, we are removing the last dimension in `y_predicted` using `squeeze`.*"
      ]
    },
    {
      "cell_type": "code",
      "execution_count": null,
      "metadata": {
        "colab": {
          "base_uri": "https://localhost:8080/"
        },
        "id": "2nJo7OzVVOrQ",
        "outputId": "d39ac3e7-f7cb-4c8e-a160-f1d0dcaabb5b"
      },
      "outputs": [
        {
          "output_type": "stream",
          "name": "stdout",
          "text": [
            "F1-Score for threshold probability 0.5: \u001b[1m0.6400\u001b[0m\n"
          ]
        }
      ],
      "source": [
        "f1_score = BinaryF1Score(threshold=0.5)\n",
        "\n",
        "f1_score.update(y_predicted.squeeze(-1), y_test)\n",
        "\n",
        "print(f\"F1-Score for threshold probability 0.5: {bold}{f1_score.compute():.4f}{reset}\")"
      ]
    },
    {
      "cell_type": "markdown",
      "metadata": {
        "id": "0y-NSxCRVOrQ"
      },
      "source": [
        "## 10 ROC Curve\n",
        "\n",
        "<img src=\"https://www.learnopencv.com/wp-content/uploads/2020/01/c3_w3_roc.png\" width=700>\n",
        "\n",
        "\n",
        "\\begin{align}\n",
        "TPR (recall) &= \\frac{TP}{TP + FN} \\\\\n",
        "FPR &= \\frac{FP}{FP + TN} \\\\\n",
        "\\end{align}"
      ]
    },
    {
      "cell_type": "markdown",
      "metadata": {
        "id": "SFEv-cFRVOrQ"
      },
      "source": [
        "### 10.1 ROC Curve Using Confusion Matrix\n",
        "\n",
        "To calculate the true positive rates (TPR) and false-positive rates (FPR), we can use `BinaryROC` class. See the docs [here](https://torchmetrics.readthedocs.io/en/stable/classification/roc.html#binaryroc).\n",
        "\n",
        "***Note***: *The true labels and predicted values should have the same dimension. Therefore, in the following code block, we are removing the last dimension in `y_predicted` using `squeeze`. Besides, the targets should be of `int` tensor.*\n",
        "\n",
        "We can either manually pass the thresholds to obtain the FPR and TPR, or let the `BinaryROC` class dynamically choose the thresholds from the data (might be computationally a bit more expensive).\n",
        "\n",
        "\n",
        "Finally, we plot `TPR-vs-FPR`."
      ]
    },
    {
      "cell_type": "code",
      "execution_count": null,
      "metadata": {
        "id": "7HK_dtDEVOrQ"
      },
      "outputs": [],
      "source": [
        "thresholds = torch.linspace(0.001, 0.999, 1000)\n",
        "\n",
        "roc = BinaryROC(thresholds=thresholds)\n",
        "\n",
        "roc.update(y_predicted.squeeze(-1), y_test.int())\n",
        "\n",
        "fp_rates, tp_rates, _ = roc.compute()"
      ]
    },
    {
      "cell_type": "markdown",
      "metadata": {
        "id": "GihfnIfnVOrQ"
      },
      "source": [
        "**Let's plot `true positive rate` vs `false positive rate`.**"
      ]
    },
    {
      "cell_type": "code",
      "execution_count": null,
      "metadata": {
        "colab": {
          "base_uri": "https://localhost:8080/",
          "height": 646
        },
        "id": "phGGOVzOVOrQ",
        "outputId": "606d64ee-4558-4d0a-8792-479271b40d2a"
      },
      "outputs": [
        {
          "output_type": "display_data",
          "data": {
            "text/plain": [
              "<Figure size 1000x700 with 1 Axes>"
            ],
            "image/png": "[encoded data removed]"
          },
          "metadata": {}
        }
      ],
      "source": [
        "plt.plot(fp_rates, tp_rates, label='ROC curve', color='b')\n",
        "plt.plot([0, 1], [0, 1], label='Random Classifier (AUC = 0.5)', linestyle='--', lw=2, color='r')\n",
        "plt.xlabel('False Positive Rate')\n",
        "plt.ylabel('True Positive Rate')\n",
        "plt.legend(loc=\"lower right\")\n",
        "plt.title('ROC Curve')\n",
        "plt.show()"
      ]
    },
    {
      "cell_type": "markdown",
      "metadata": {
        "id": "svXnu4hFVOrQ"
      },
      "source": [
        "### 10.2 Area Under the ROC Curve\n",
        "\n",
        "To calculate the area under the **ROC** curve, we can use `BinaryAUROC` class. See the docs [here](https://torchmetrics.readthedocs.io/en/stable/classification/auroc.html#binaryauroc).\n",
        "\n",
        "***Note***: *The true labels and predicted values should have the same dimension. Therefore, in the following code block, we are removing the last dimension in `y_predicted` using `squeeze`. Besides, the targets should be of `int` tensor.*\n",
        "\n",
        "We can either manually pass the thresholds to obtain the area under the curve, or let the `BinaryAUROC` class dynamically choose the thresholds from the data."
      ]
    },
    {
      "cell_type": "code",
      "execution_count": null,
      "metadata": {
        "colab": {
          "base_uri": "https://localhost:8080/"
        },
        "id": "HkS6EeNHVOrW",
        "outputId": "8827e831-530e-4f05-e6e4-28e574b1cff1"
      },
      "outputs": [
        {
          "output_type": "stream",
          "name": "stdout",
          "text": [
            "AU-ROC Score: \u001b[1m0.7792\u001b[0m\n"
          ]
        }
      ],
      "source": [
        "thresholds = torch.linspace(0.001, 0.999, 1000)\n",
        "\n",
        "binary_auroc = BinaryAUROC(thresholds=thresholds)\n",
        "\n",
        "binary_auroc.update(y_predicted.squeeze(-1), y_test.int())\n",
        "\n",
        "print(f\"AU-ROC Score: {bold}{binary_auroc.compute():.4f}{reset}\")"
      ]
    },
    {
      "cell_type": "code",
      "execution_count": null,
      "metadata": {
        "id": "VKCB3lJwVOrX"
      },
      "outputs": [],
      "source": []
    }
  ],
  "metadata": {
    "kernelspec": {
      "display_name": "Python 3",
      "name": "python3"
    },
    "language_info": {
      "name": "python"
    },
    "colab": {
      "provenance": [],
      "include_colab_link": true
    },
    "gpuClass": "standard"
  },
  "nbformat": 4,
  "nbformat_minor": 0
}